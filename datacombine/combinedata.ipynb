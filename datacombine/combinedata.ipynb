{
 "cells": [
  {
   "cell_type": "code",
   "execution_count": null,
   "metadata": {},
   "outputs": [],
   "source": []
  },
  {
   "cell_type": "code",
   "execution_count": 2,
   "metadata": {},
   "outputs": [],
   "source": [
    "'''\n",
    "This program reads two csv files and merges them based on a common key column.\n",
    "'''\n",
    "# import the pandas library\n",
    "# you can install using the following command: pip install pandas\n",
    "\n",
    "import pandas as pd\n",
    "\n",
    "# Read the files into two dataframes.\n",
    "df1 = pd.read_csv('hypoallerg.csv')\n",
    "df2 = pd.read_csv('akc-data-latest.csv')\n",
    "\n",
    "# Merge the two dataframes, using _ID column as key\n",
    "df3 = pd.merge(df1, df2, on = 'Name')\n",
    "df3.set_index('Name', inplace = True)\n",
    "\n",
    "# Write it to a new CSV file\n",
    "df3.to_csv('CSV3.csv')"
   ]
  }
 ],
 "metadata": {
  "kernelspec": {
   "display_name": "cs4300-env",
   "language": "python",
   "name": "python3"
  },
  "language_info": {
   "codemirror_mode": {
    "name": "ipython",
    "version": 3
   },
   "file_extension": ".py",
   "mimetype": "text/x-python",
   "name": "python",
   "nbconvert_exporter": "python",
   "pygments_lexer": "ipython3",
   "version": "3.8.3"
  },
  "orig_nbformat": 4
 },
 "nbformat": 4,
 "nbformat_minor": 2
}
